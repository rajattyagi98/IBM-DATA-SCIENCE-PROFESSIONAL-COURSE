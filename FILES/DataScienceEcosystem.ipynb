{
 "cells": [
  {
   "cell_type": "markdown",
   "id": "4f32e0ed-e8b1-413e-92aa-52cd62738354",
   "metadata": {},
   "source": [
    "**Data Science Tools and Ecosystem**"
   ]
  },
  {
   "cell_type": "raw",
   "id": "c1e57da1-e704-440f-8b3c-8035e8f80a8a",
   "metadata": {},
   "source": [
    "In this notebook, Data Science Tools and Ecosystem are summarized."
   ]
  },
  {
   "cell_type": "markdown",
   "id": "79f2c0d3-0e25-4231-a59b-2ff4bc0c18bd",
   "metadata": {},
   "source": [
    "Some of the popular languages that Data Scientists use are:\n",
    "\n",
    "1. **Python:** Widely adopted for its versatility and extensive ecosystem, Python is a go-to language for data science tasks. It offers powerful libraries like NumPy, Pandas, and Scikit-learn for data manipulation, analysis, and machine learning.\n",
    "\n",
    "2. **R:** Specifically designed for statistical computing and data analysis, R is favored by statisticians and data scientists alike. It provides a rich set of packages for statistical modeling, visualization, and exploratory data analysis.\n",
    "\n",
    "3. **SQL:** While not a programming language in the traditional sense, SQL (Structured Query Language) is essential for working with relational databases. Data scientists frequently use SQL to retrieve, manipulate, and analyze data stored in databases.\n",
    "\n",
    "4. **Julia:** Known for its high-performance computing capabilities, Julia is gaining popularity in data science for tasks that require intensive numerical and scientific computing.\n",
    "\n",
    "5. **Scala:** Often used in combination with Apache Spark, Scala is a programming language that facilitates distributed computing, making it suitable for big data processing and analytics.\n"
   ]
  },
  {
   "cell_type": "markdown",
   "id": "d08f88a6-d0e9-460f-bc70-3660a6957205",
   "metadata": {},
   "source": [
    "# Data Science Libraries Overview\n",
    "\n",
    "Some of the commonly used libraries used by Data Scientists include:\n",
    "\n",
    "1. **NumPy**: NumPy is a fundamental package for scientific computing in Python. It provides support for large, multi-dimensional arrays and matrices, along with mathematical functions to operate on these arrays.\n",
    "\n",
    "\n",
    "2. **Pandas**: Pandas is a powerful data manipulation and analysis library. It offers data structures like DataFrame for efficient data manipulation with integrated indexing, making it an essential tool for working with structured data.\n",
    "\n",
    "\n",
    "3. **Scikit-learn**: Scikit-learn is a machine learning library that provides simple and efficient tools for data analysis and modeling, including various algorithms for classification, regression, clustering, and more. It is built on NumPy, SciPy, and Matplotlib.\n",
    "\n",
    "4. **Matplotlib**: Matplotlib is a 2D plotting library for creating static, animated, and interactive visualizations in Python. It is widely used for generating plots, charts, and other data visualizations in data science and scientific computing.\n"
   ]
  },
  {
   "cell_type": "markdown",
   "id": "449d2f12-5aa0-4e6c-ae03-f463aa678a97",
   "metadata": {},
   "source": [
    "# Data Science Libraries Overview\n",
    "\n",
    "Some of the commonly used libraries used by Data Scientists include:\n",
    "\n",
    "1. **NumPy**: NumPy is a fundamental package for scientific computing in Python. It provides support for large, multi-dimensional arrays and matrices, along with mathematical functions to operate on these arrays.\n",
    "\n",
    "2. **Pandas**: Pandas is a powerful data manipulation and analysis library. It offers data structures like DataFrame for efficient data manipulation with integrated indexing, making it an essential tool for working with structured data.\n",
    "\n",
    "3. **Scikit-learn**: Scikit-learn is a machine learning library that provides simple and efficient tools for data analysis and modeling, including various algorithms for classification, regression, clustering, and more. It is built on NumPy, SciPy, and Matplotlib.\n",
    "\n",
    "4. **Matplotlib**: Matplotlib is a 2D plotting library for creating static, animated, and interactive visualizations in Python. It is widely used for generating plots, charts, and other data visualizations in data science and scientific computing.\n",
    "\n",
    "| Data Science Tools |\n",
    "|---------------------|\n",
    "| Jupyter Notebooks   |\n",
    "| RStudio             |\n",
    "| VS Code with Python  |\n"
   ]
  },
  {
   "cell_type": "markdown",
   "id": "3f633fad-cda4-4eb1-9cb6-8dc17a3245da",
   "metadata": {},
   "source": [
    "### Below are a few examples of evaluating arithmetic expressions in Python\n"
   ]
  },
  {
   "cell_type": "code",
   "execution_count": 5,
   "id": "501d73a2-b0a1-4fe8-aa2b-bcef4afedaad",
   "metadata": {
    "tags": []
   },
   "outputs": [],
   "source": [
    "#This a simple arithmetic expression to mutiply then add integers"
   ]
  },
  {
   "cell_type": "code",
   "execution_count": 7,
   "id": "479ecfef-0147-4b7f-9a22-5d5919d77ada",
   "metadata": {
    "tags": []
   },
   "outputs": [],
   "source": [
    "answer = (3*4)+5"
   ]
  },
  {
   "cell_type": "code",
   "execution_count": 8,
   "id": "ed701a55-c47b-4dc5-acb4-17263d9e1336",
   "metadata": {
    "tags": []
   },
   "outputs": [
    {
     "name": "stdout",
     "output_type": "stream",
     "text": [
      "17\n"
     ]
    }
   ],
   "source": [
    "print(answer)"
   ]
  },
  {
   "cell_type": "code",
   "execution_count": 9,
   "id": "9f1c58ea-96a4-43ab-9ed1-6b6659f65b94",
   "metadata": {
    "tags": []
   },
   "outputs": [],
   "source": [
    "#This will convert 200 minutes to hours by diving by 60"
   ]
  },
  {
   "cell_type": "code",
   "execution_count": 10,
   "id": "6cdce0a0-aa8e-408a-bbac-1dcdf30117ab",
   "metadata": {
    "tags": []
   },
   "outputs": [],
   "source": [
    "minutes = 200"
   ]
  },
  {
   "cell_type": "code",
   "execution_count": 11,
   "id": "bd76216e-6551-49fe-a1dc-f03c679dc169",
   "metadata": {
    "tags": []
   },
   "outputs": [
    {
     "name": "stdout",
     "output_type": "stream",
     "text": [
      "3.3333333333333335\n"
     ]
    }
   ],
   "source": [
    "hours = minutes / 60\n",
    "print(hours)"
   ]
  },
  {
   "cell_type": "markdown",
   "id": "27c4168a-3556-4e34-9b84-e86fd03c046d",
   "metadata": {},
   "source": [
    "# List popular languages for Data Science\n",
    "\n",
    "Welcome to this introductory notebook on Data Science. In this course, we explore fundamental concepts and tools used in the field of Data Science.\n",
    "\n",
    "---\n",
    "\n",
    "### Objectives:\n",
    "\n",
    "- **List popular languages for Data Science**\n",
    "- **Introduce common data manipulation libraries**\n",
    "- **Explore essential machine learning frameworks**\n",
    "- **Demonstrate data visualization techniques**\n",
    "- **Understand the importance of exploratory data analysis (EDA)**\n"
   ]
  },
  {
   "cell_type": "raw",
   "id": "a7f57b78-bb6f-4596-9d51-7f203ee13dbe",
   "metadata": {},
   "source": [
    "## Rajat Tyagi"
   ]
  },
  {
   "cell_type": "code",
   "execution_count": null,
   "id": "4146dacd-5a48-4dad-8f55-ea42bd3665e9",
   "metadata": {},
   "outputs": [],
   "source": []
  }
 ],
 "metadata": {
  "kernelspec": {
   "display_name": "Python",
   "language": "python",
   "name": "conda-env-python-py"
  },
  "language_info": {
   "codemirror_mode": {
    "name": "ipython",
    "version": 3
   },
   "file_extension": ".py",
   "mimetype": "text/x-python",
   "name": "python",
   "nbconvert_exporter": "python",
   "pygments_lexer": "ipython3",
   "version": "3.7.12"
  }
 },
 "nbformat": 4,
 "nbformat_minor": 5
}
